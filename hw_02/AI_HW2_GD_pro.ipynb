{
  "nbformat": 4,
  "nbformat_minor": 0,
  "metadata": {
    "colab": {
      "provenance": []
    },
    "kernelspec": {
      "name": "python3",
      "display_name": "Python 3"
    },
    "language_info": {
      "name": "python"
    }
  },
  "cells": [
    {
      "cell_type": "markdown",
      "source": [
        "# **Домашнее задание 2: Градиентный спуск (pro)**\n",
        "\n",
        "В этом задании две части - теоретическая и практическая. Теорию можно набирать, используя LaTex или просто решать на листочке, сфотографировать и отправить вместе с заполненным ноутбуком в anytask.\n",
        "\n",
        "Максимальный балл за домашнее задание - 10."
      ],
      "metadata": {
        "id": "lJ1Hwqs18fSZ"
      }
    },
    {
      "cell_type": "markdown",
      "source": [
        "## Часть 1 (теоретическая)\n",
        "\n",
        "## Задание 1 (**1.5 балла**)\n",
        "\n",
        "В случае одномерной Ridge-регрессии минимизируется функция со штрафом:\n",
        "$$Q(w) = (y-xw)^T(y-xw)+\\lambda w^2,$$\n",
        "где $\\lambda$ - положительный параметр, штрафующий функцию за слишком большие значения $w$.\n",
        "\n",
        "1)  (**0.5 балла**) Найдите производную $\\nabla_w Q(w)$, выведите формулу для оптимального $w$.\n",
        "\n",
        "2) (**0.5 балла**) Найдите вторую производную $\\nabla^2_w Q(w)$. Убедитесь, что мы оказались в точке минимума.\n",
        "\n",
        "3) (**0.5 балла**) Выпишите шаг градиентного спуска в матричном виде."
      ],
      "metadata": {
        "id": "EMZ5My7kiPY_"
      }
    },
    {
      "cell_type": "markdown",
      "source": [
        "1. $ Q(w) = (y^T - w^T X^T)(y - Xw) + \\lambda w^Tw = $ <br>\n",
        "$ y^T y - y^T X w - w^T X^Ty + w^T X^T X w + \\lambda w^Tw = $ <br>\n",
        "$ y^Ty - 2y^TXw + w^TX^TXw + \\lambda w^Tw $ <br><br>\n",
        "Тогда: $ \\nabla_w Q(w) = 0 - 2X^Ty + (X^TX + X^TX)w + 2\\lambda w = 0 \\implies\n",
        "X^TXw + \\lambda w I = X^Ty \\implies$ $$w = (X^TX + \\lambda I)^{-1}X^Ty$$"
      ],
      "metadata": {
        "id": "LQMI7b9Y9KvW"
      }
    },
    {
      "cell_type": "markdown",
      "source": [
        "2. $\\nabla^2_w Q(w) = 2 X^TX + 2\\lambda I$ <br><br>\n",
        "Нужно понять является ли матрица $X^TX$ положительно определенной, т.е.: $z^TX^TXz > 0 \\forall z >0$. В формуле записан квадрат нормы, поэтому данная матрица является положительно определенной. Также остальные слагаемые первой формулы больше нуля. Из критерия Сильвестра следует, что все главные миноры положительно определенной матрицы положительны, а значит, данная точка является минимумом.\n"
      ],
      "metadata": {
        "id": "Rlt8DKxBLhQC"
      }
    },
    {
      "cell_type": "markdown",
      "source": [
        "3. $w^t = w^{t-1} - \\eta \\nabla_w Q(w^{t-1})$"
      ],
      "metadata": {
        "id": "qTGf6cEoNp0U"
      }
    },
    {
      "cell_type": "markdown",
      "source": [
        "## Часть 2 (практическая).\n",
        "\n",
        "## Задание 2 (**1 балл**)\n",
        "\n",
        "Дана функция: $$f(x) = x\\cdot sin(5x) + 0.1 \\cdot x^2$$\n",
        "\n",
        "Для этой функции:\n",
        "\n",
        "- [ ] Реализуйте (или возьмите рассмотренный на занятии) метод градиетного спуска с условием остановки `stop=1e^-6` и шагом `eta=0.001`. **Градиетный спуск обязательно должен сохранять траекторию движения.**\n",
        "- [ ] Задайте стартовые точки x0, равные 0, 0.5, 1\n",
        "- [ ] Реализуйте нахождение точек минимума и максимума функции $f(x)$ (для нахождения максимума нам нужно в направлении градиента, а не антиградиента)\n",
        "- [ ] Проанализируйте результаты. Предположите, с чем они связаны. Ответьте на вопросы:\n",
        "    - Чему равны значения экстремумов?\n",
        "    - При старте из какой начальной точки найденные экстремумы совпадут?\n",
        "\n",
        "\n"
      ],
      "metadata": {
        "id": "_pGazqdK9Tvf"
      }
    },
    {
      "cell_type": "code",
      "source": [
        "import numpy as np\n",
        "import matplotlib.pyplot as plt\n",
        "from copy import deepcopy\n",
        "\n",
        "np.random.seed(42)"
      ],
      "metadata": {
        "id": "mdbEav7MJM4z"
      },
      "execution_count": 150,
      "outputs": []
    },
    {
      "cell_type": "code",
      "source": [
        "# Функция и её производная\n",
        "def f(x):\n",
        "    return x * np.sin(5 * x) + 0.1 * x ** 2\n",
        "\n",
        "def df(x):\n",
        "    return np.sin(5 * x) + 5 * x * np.cos(5 * x) + 0.2 * x\n",
        "\n",
        "# Градиентный спуск\n",
        "def gradient_descent(f, df, x0, eta, max_iter=1000, tol=1e-6, find_max=False):\n",
        "    path = [x0]\n",
        "    x_old = x0\n",
        "\n",
        "    if find_max:\n",
        "        eta *= -1\n",
        "\n",
        "    for i in range(max_iter):\n",
        "        x_new = x_old - eta * df(x_old)\n",
        "        path += [x_new]\n",
        "\n",
        "        if abs(x_new - x_old) < tol:\n",
        "            return x_new, path\n",
        "\n",
        "        x_old = x_new\n",
        "    return x_new, path\n",
        "\n",
        "# Поиск экстремумов\n",
        "def find_points(f, df, x0_list, eta, max_iter=1000, tol=1e-6, find_max=False):\n",
        "    extremums = []\n",
        "    for x0 in x0_list:\n",
        "        extremum, path = gradient_descent(f, df, x0, eta, max_iter, tol, find_max)\n",
        "        extremums += [extremum]\n",
        "    return extremums"
      ],
      "metadata": {
        "id": "HJbAEs3_-zet"
      },
      "execution_count": 151,
      "outputs": []
    },
    {
      "cell_type": "code",
      "source": [
        "x0_list = [0, 0.5, 1]\n",
        "eta = 0.001\n",
        "\n",
        "print(f'Найденные точки минимума: {np.round(find_points(f, df, x0_list, eta), 3)}')\n",
        "print(f'Найденные точки максимума: {np.round(find_points(f, df, x0_list, eta, find_max=True), 3)}')"
      ],
      "metadata": {
        "colab": {
          "base_uri": "https://localhost:8080/"
        },
        "id": "MIcEcn-QOIOb",
        "outputId": "fe178703-9771-43d9-f263-64027bba4988"
      },
      "execution_count": 152,
      "outputs": [
        {
          "output_type": "stream",
          "name": "stdout",
          "text": [
            "Найденные точки минимума: [0.    0.975 0.975]\n",
            "Найденные точки максимума: [0.    0.412 1.604]\n"
          ]
        }
      ]
    },
    {
      "cell_type": "markdown",
      "source": [
        "`Мы видим, что для точек x0 = 0.5 и x0 = 1 практически совпали минимумы. Можно предположить, что данные стартовые точки попали на одну и ту же часть склона графика, что привело к тому, что градиентный спуск падал в одну и ту же точку локального минимума.`<br>\n",
        "`Также мы видим, что для x0 = 0 совпали точки максимума и минимума. Скорее всего это произошло из-за того, что выбранная точка уже является экстремумом, поэтому градиент в этом месте равен 0 и градиентный спуск даже не делал шагов.`"
      ],
      "metadata": {
        "id": "XYTYiFrzQdh6"
      }
    },
    {
      "cell_type": "markdown",
      "source": [
        "## Задание 3 (**0.5 балла**).\n",
        "Напишите функцию, вычисляющую значение весов в линейной регрессии по точной (аналитически найденной) формуле."
      ],
      "metadata": {
        "id": "lm6_Ln0GoliG"
      }
    },
    {
      "cell_type": "code",
      "source": [
        "def ols_solution(X, y):\n",
        "    X = np.hstack((np.ones((X.shape[0], 1)), X))\n",
        "    return np.linalg.inv(X.T @ X) @ X.T @ y"
      ],
      "metadata": {
        "id": "ZrVvpU9miOga"
      },
      "execution_count": 153,
      "outputs": []
    },
    {
      "cell_type": "markdown",
      "source": [
        "## Задание 5 (**1 балл**).\n",
        "Модифицируйте метод градиентного спуска с семинара так, чтобы это теперь был метод стохастического градиентного спуска."
      ],
      "metadata": {
        "id": "_shCsTQ1pVcU"
      }
    },
    {
      "cell_type": "code",
      "source": [
        "from tqdm import tqdm\n",
        "\n",
        "def compute_cost(X, y, w):\n",
        "    l = X.shape[0]\n",
        "    return (np.linalg.norm(X @ w - y) ** 2) / l\n",
        "\n",
        "def predict(X, w):\n",
        "    X = np.hstack((np.ones((X.shape[0], 1)), X))\n",
        "    return X @ w\n",
        "\n",
        "def stochastic_gradient_descent(X, y, learning_rate, num_iterations, alpha=0, batch_size=None, disable_tqdm=False):\n",
        "    \"\"\"\n",
        "        Стохастический градиентный спуск.\n",
        "\n",
        "        alpha: коэффициент L2 регуляризации\n",
        "    \"\"\"\n",
        "\n",
        "    X = np.hstack((np.ones((X.shape[0], 1)), X))\n",
        "    w = np.random.rand(X.shape[1])\n",
        "\n",
        "    cost_track = [compute_cost(X, y, w)]\n",
        "\n",
        "    # Если batch_size не определен, то по умолчанию batch_size = размер выборки.\n",
        "    if not batch_size:\n",
        "        batch_size = X.shape[0]\n",
        "\n",
        "    for i in tqdm(range(num_iterations), disable=disable_tqdm):\n",
        "\n",
        "        subset_indices = np.random.choice(X.shape[0], batch_size)\n",
        "        X_subset = X[subset_indices]\n",
        "        y_subset = y[subset_indices]\n",
        "\n",
        "        w = w - (learning_rate * (2./batch_size * X_subset.T @ (X_subset @ w - y_subset) + 2 * alpha * w))\n",
        "\n",
        "        cost_track += [compute_cost(X, y, w)]\n",
        "\n",
        "    return w, cost_track"
      ],
      "metadata": {
        "id": "fTZWxz1zpb9R"
      },
      "execution_count": 154,
      "outputs": []
    },
    {
      "cell_type": "markdown",
      "source": [
        "## Задание 6 (**3 балла**).\n",
        "* **(0 баллов)**. Скопируйте метод градиентного спуска из семинара в этот ноутбук.\n",
        "\n",
        "* **(0.5 балла)**. Обучите линейную регрессию на данных, сгенерированных ниже, тремя методами (по точной формуле, с помощью GD и с помощью SGD) на данных для задачи регрессии (см. код). Для GD и SGD используйте learning_rate = 0.01, iterations=10000.\n",
        "\n",
        "* **(0.5 балла)**. С помощью каждого метода сделайте предсказание (на всех данных), вычислите качество предсказания r2 (from sklearn.metrics import r2_score). Для получения предсказания можете использовать функцию predict с семинара.\n",
        "\n",
        "\n",
        "Ответьте на следующие вопросы (каждый вопрос - **0.5 балла**):\n",
        "\n",
        "1) все ли методы справились с нахождением минимума? если нет, то почему какой-то из методов не справился?\n",
        "\n",
        "2) сравните время работы методов (используйте библиотеку time): замеряйте время работы соответствующей написанной вами функции.\n",
        "\n",
        "3) для методов GD и SGD нарисуйте графики (для каждого свой) зависимости ошибки (loss) от номера итерации.\n",
        "\n",
        "4) какой метод успешнее всего справился с задачей? (т.е. r2 наибольший)."
      ],
      "metadata": {
        "id": "WnRlUa9Npi9o"
      }
    },
    {
      "cell_type": "code",
      "source": [
        "from sklearn.datasets import make_regression\n",
        "from sklearn.metrics import r2_score\n",
        "import pandas as pd\n",
        "import numpy as np\n",
        "\n",
        "X, y, _ = make_regression(n_samples=100000, #number of samples\n",
        "                          n_features=10, #number of features\n",
        "                          n_informative=8, #number of useful features\n",
        "                          noise=100, #bias and standard deviation of the guassian noise\n",
        "                          coef=True, #true coefficient used to generated the data\n",
        "                          random_state=123)\n",
        "\n",
        "X = pd.DataFrame(data=X, columns=np.arange(0, X.shape[1]))\n",
        "X[10] = X[6] + X[7] + np.random.random() * 0.01"
      ],
      "metadata": {
        "id": "LBu41KSpqbbI"
      },
      "execution_count": 155,
      "outputs": []
    },
    {
      "cell_type": "markdown",
      "source": [
        "1. Решение по точной формуле:"
      ],
      "metadata": {
        "id": "kuEFpmSrRWH-"
      }
    },
    {
      "cell_type": "code",
      "source": [
        "%%time\n",
        "w_ols = ols_solution(X, y)\n",
        "y_pred = predict(X, w_ols)\n",
        "print(f'OLS r2: {r2_score(y, y_pred)}')"
      ],
      "metadata": {
        "id": "f1SE0-oUtVlO",
        "colab": {
          "base_uri": "https://localhost:8080/"
        },
        "outputId": "92b01701-1399-4254-ef90-abd0dac6e682"
      },
      "execution_count": 156,
      "outputs": [
        {
          "output_type": "stream",
          "name": "stdout",
          "text": [
            "OLS r2: 0.7511401029736604\n",
            "CPU times: user 33.3 ms, sys: 12.1 ms, total: 45.4 ms\n",
            "Wall time: 45.1 ms\n"
          ]
        }
      ]
    },
    {
      "cell_type": "markdown",
      "source": [
        "2. Решение с помощью GD:"
      ],
      "metadata": {
        "id": "aTSFPDnkSb6s"
      }
    },
    {
      "cell_type": "code",
      "source": [
        "learning_rate = 0.01\n",
        "num_iterations = 10000"
      ],
      "metadata": {
        "id": "nIWc3BvASgOA"
      },
      "execution_count": 157,
      "outputs": []
    },
    {
      "cell_type": "code",
      "source": [
        "%%time\n",
        "# Так как не указали параметры => это full batch GD.\n",
        "w_gd, cost_track_gd = stochastic_gradient_descent(X, y, learning_rate, num_iterations)\n",
        "y_pred = predict(X, w_gd)\n",
        "print(f'Full batch GD r2: {r2_score(y, y_pred)}')"
      ],
      "metadata": {
        "colab": {
          "base_uri": "https://localhost:8080/"
        },
        "id": "4dHJ8f2-SgUy",
        "outputId": "20b138b2-c0b8-4ebb-c2aa-d6275f59d708"
      },
      "execution_count": 158,
      "outputs": [
        {
          "output_type": "stream",
          "name": "stderr",
          "text": [
            "100%|██████████| 10000/10000 [04:39<00:00, 35.84it/s]"
          ]
        },
        {
          "output_type": "stream",
          "name": "stdout",
          "text": [
            "Full batch GD r2: 0.7554621714767976\n",
            "CPU times: user 4min 49s, sys: 2min 53s, total: 7min 42s\n",
            "Wall time: 4min 39s\n"
          ]
        },
        {
          "output_type": "stream",
          "name": "stderr",
          "text": [
            "\n"
          ]
        }
      ]
    },
    {
      "cell_type": "markdown",
      "source": [
        "3. Решение с помощью SGD:"
      ],
      "metadata": {
        "id": "YIhoTWExTGv1"
      }
    },
    {
      "cell_type": "code",
      "source": [
        "%%time\n",
        "# SGD с batch_size = 1.\n",
        "w_sgd, cost_track_sgd = stochastic_gradient_descent(X, y, learning_rate, num_iterations, batch_size=1, disable_tqdm=True)\n",
        "y_pred = predict(X, w_sgd)\n",
        "print(f'SGD r2: {r2_score(y, y_pred)}')"
      ],
      "metadata": {
        "colab": {
          "base_uri": "https://localhost:8080/"
        },
        "id": "qr-OyGahTJjP",
        "outputId": "cfa874f8-a860-4b0e-c259-9b1a95597fe4"
      },
      "execution_count": 159,
      "outputs": [
        {
          "output_type": "stream",
          "name": "stdout",
          "text": [
            "SGD r2: 0.7137723706917383\n",
            "CPU times: user 11.1 s, sys: 3.15 s, total: 14.3 s\n",
            "Wall time: 9.17 s\n"
          ]
        }
      ]
    },
    {
      "cell_type": "markdown",
      "source": [
        "`1. Судя по тому, что R^2 оказался адекватным для каждого из 3 методов, то можно сделать выводы, что все 3 алгоритма нашли минимум. Хотя, качество SGD оказалось хуже, чем у остальных. Скорее всего он прыгал рядом с минимумом, но не спустился точно в него.`<br>\n",
        "`2. Времы работы методов отображены в ячейках сверху. Самым быстрым оказался OLS, самым медленным - full batch GD.`"
      ],
      "metadata": {
        "id": "LYOVBcLjVVwL"
      }
    },
    {
      "cell_type": "markdown",
      "source": [
        "`3. График зависимости ошибки от номера итерации:`"
      ],
      "metadata": {
        "id": "U9enowJ5WRl7"
      }
    },
    {
      "cell_type": "code",
      "source": [
        "x = np.arange(num_iterations)\n",
        "plt.plot(x, cost_track_gd[:-1], label='GD')\n",
        "plt.plot(x, cost_track_sgd[:-1], label='SGD')\n",
        "plt.legend()\n",
        "plt.show()"
      ],
      "metadata": {
        "colab": {
          "base_uri": "https://localhost:8080/",
          "height": 430
        },
        "id": "6lFPqSDvWWko",
        "outputId": "625ca27f-4cb3-4b2b-b426-3011362aabf6"
      },
      "execution_count": 160,
      "outputs": [
        {
          "output_type": "display_data",
          "data": {
            "text/plain": [
              "<Figure size 640x480 with 1 Axes>"
            ],
            "image/png": "[encoded data removed]"
          },
          "metadata": {}
        }
      ]
    },
    {
      "cell_type": "markdown",
      "source": [
        "`4. Лучше всего с задачей справился full batch GD.`"
      ],
      "metadata": {
        "id": "EUhkJBpuYugZ"
      }
    },
    {
      "cell_type": "markdown",
      "source": [
        "## Задание 7 (1.5 балла).\n",
        "\n",
        "* **(0.5 балла)**. Добавьте в функцию из задания 5 L2-регуляризацию и, соответственно, новый аргумент - коэффициент при регуляризаторе.\n",
        "\n",
        "* **(1 балл)**. На сгенерированных выше данных обучите модифицированный алгоритм SGD с регуляризацией: в цикле перебирайте значения коэффициента регуляризации от 0.1 до 1 с шагом 0.1. Для каждого значения обучите модель и сделайте предсказание, выведите значение r2. Для какого значения коэффициента регуляризации получилось наилучшее качество r2, почему?"
      ],
      "metadata": {
        "id": "wYmzzJVV54zT"
      }
    },
    {
      "cell_type": "markdown",
      "source": [
        "`Коэффициент регуляризации я добавил в функцию еще в задании 5.`"
      ],
      "metadata": {
        "id": "Ycm8bye-dlOx"
      }
    },
    {
      "cell_type": "code",
      "source": [
        "best_r2 = 0\n",
        "best_alpha = None\n",
        "for alpha in tqdm(np.arange(0, 1, 0.1)):\n",
        "    w_sgd, _ = stochastic_gradient_descent(X, y, learning_rate, num_iterations, alpha=alpha, batch_size=1, disable_tqdm=True)\n",
        "    y_pred = predict(X, w_sgd)\n",
        "    r2 = r2_score(y, y_pred)\n",
        "    print(f'\\nalpha: {round(alpha, 2)}, r2: {round(r2, 2)}')\n",
        "    if r2 > best_r2:\n",
        "        best_r2 = r2\n",
        "        best_alpha = alpha"
      ],
      "metadata": {
        "id": "b_hC1Ehi612d",
        "colab": {
          "base_uri": "https://localhost:8080/"
        },
        "outputId": "9ebae1a6-9a9d-43df-8e36-19d5538f9924"
      },
      "execution_count": 161,
      "outputs": [
        {
          "output_type": "stream",
          "name": "stderr",
          "text": [
            " 10%|█         | 1/10 [00:09<01:21,  9.02s/it]"
          ]
        },
        {
          "output_type": "stream",
          "name": "stdout",
          "text": [
            "\n",
            "alpha: 0.0, r2: 0.69\n"
          ]
        },
        {
          "output_type": "stream",
          "name": "stderr",
          "text": [
            "\r 20%|██        | 2/10 [00:18<01:14,  9.32s/it]"
          ]
        },
        {
          "output_type": "stream",
          "name": "stdout",
          "text": [
            "\n",
            "alpha: 0.1, r2: 0.72\n"
          ]
        },
        {
          "output_type": "stream",
          "name": "stderr",
          "text": [
            "\r 30%|███       | 3/10 [00:25<00:57,  8.28s/it]"
          ]
        },
        {
          "output_type": "stream",
          "name": "stdout",
          "text": [
            "\n",
            "alpha: 0.2, r2: 0.71\n"
          ]
        },
        {
          "output_type": "stream",
          "name": "stderr",
          "text": [
            "\r 40%|████      | 4/10 [00:35<00:52,  8.76s/it]"
          ]
        },
        {
          "output_type": "stream",
          "name": "stdout",
          "text": [
            "\n",
            "alpha: 0.3, r2: 0.72\n"
          ]
        },
        {
          "output_type": "stream",
          "name": "stderr",
          "text": [
            "\r 50%|█████     | 5/10 [00:42<00:40,  8.15s/it]"
          ]
        },
        {
          "output_type": "stream",
          "name": "stdout",
          "text": [
            "\n",
            "alpha: 0.4, r2: 0.67\n"
          ]
        },
        {
          "output_type": "stream",
          "name": "stderr",
          "text": [
            "\r 60%|██████    | 6/10 [00:51<00:34,  8.63s/it]"
          ]
        },
        {
          "output_type": "stream",
          "name": "stdout",
          "text": [
            "\n",
            "alpha: 0.5, r2: 0.7\n"
          ]
        },
        {
          "output_type": "stream",
          "name": "stderr",
          "text": [
            "\r 70%|███████   | 7/10 [01:00<00:26,  8.81s/it]"
          ]
        },
        {
          "output_type": "stream",
          "name": "stdout",
          "text": [
            "\n",
            "alpha: 0.6, r2: 0.68\n"
          ]
        },
        {
          "output_type": "stream",
          "name": "stderr",
          "text": [
            "\r 80%|████████  | 8/10 [01:08<00:16,  8.34s/it]"
          ]
        },
        {
          "output_type": "stream",
          "name": "stdout",
          "text": [
            "\n",
            "alpha: 0.7, r2: 0.7\n"
          ]
        },
        {
          "output_type": "stream",
          "name": "stderr",
          "text": [
            "\r 90%|█████████ | 9/10 [01:17<00:08,  8.68s/it]"
          ]
        },
        {
          "output_type": "stream",
          "name": "stdout",
          "text": [
            "\n",
            "alpha: 0.8, r2: 0.63\n"
          ]
        },
        {
          "output_type": "stream",
          "name": "stderr",
          "text": [
            "100%|██████████| 10/10 [01:24<00:00,  8.47s/it]"
          ]
        },
        {
          "output_type": "stream",
          "name": "stdout",
          "text": [
            "\n",
            "alpha: 0.9, r2: 0.63\n"
          ]
        },
        {
          "output_type": "stream",
          "name": "stderr",
          "text": [
            "\n"
          ]
        }
      ]
    },
    {
      "cell_type": "markdown",
      "source": [
        "`Лучшее alpha оказалось со значением 0.3 с R^2 = 0.72. Почему? Да не понятно почему :) Перебрали много вариантов и сработало.`"
      ],
      "metadata": {
        "id": "KlKxJWgbj19O"
      }
    },
    {
      "cell_type": "code",
      "source": [
        "print(f'Best alpha: {best_alpha}, best r2: {best_r2}')"
      ],
      "metadata": {
        "colab": {
          "base_uri": "https://localhost:8080/"
        },
        "id": "v2Dxn9Qejkx7",
        "outputId": "6ed530ac-1cd2-470d-8013-87d097e648d3"
      },
      "execution_count": 163,
      "outputs": [
        {
          "output_type": "stream",
          "name": "stdout",
          "text": [
            "Best alpha: 0.30000000000000004, best r2: 0.7249163947938475\n"
          ]
        }
      ]
    },
    {
      "cell_type": "markdown",
      "source": [
        "## Задание 8 (2 балла)\n",
        "\n",
        "Реализуйте на выбор одну из оптимизаций градиентного спуска - Momentum или  AdaGrad. Необходимые выкладки вы можете подсмотреть [здесь](https://education.yandex.ru/handbook/ml/article/optimizaciya-v-ml)."
      ],
      "metadata": {
        "id": "zMUiRyCiCB3E"
      }
    },
    {
      "cell_type": "code",
      "source": [
        "def momentum_gradient_descent(X, y, learning_rate, momentum_coef, num_iterations, batch_size=None, disable_tqdm=False):\n",
        "    X = np.hstack((np.ones((X.shape[0], 1)), X))\n",
        "    w = np.random.rand(X.shape[1])\n",
        "\n",
        "    cost_track = [compute_cost(X, y, w)]\n",
        "\n",
        "    # Если batch_size не определен, то по умолчанию batch_size = размер выборки.\n",
        "    if not batch_size:\n",
        "        batch_size = X.shape[0]\n",
        "\n",
        "    v = 0\n",
        "\n",
        "    for i in tqdm(range(num_iterations), disable=disable_tqdm):\n",
        "\n",
        "        subset_indices = np.random.choice(X.shape[0], batch_size)\n",
        "        X_subset = X[subset_indices]\n",
        "        y_subset = y[subset_indices]\n",
        "\n",
        "        grad = 2./batch_size * X_subset.T @ (X_subset @ w - y_subset)\n",
        "        v = momentum_coef * v + learning_rate * grad\n",
        "        w = w - v\n",
        "\n",
        "        cost_track += [compute_cost(X, y, w)]\n",
        "\n",
        "    return w, cost_track"
      ],
      "metadata": {
        "id": "ID9ervHwCyc7"
      },
      "execution_count": 164,
      "outputs": []
    },
    {
      "cell_type": "markdown",
      "source": [
        "`Качество особо не выросло по сравнению с предыдущей моделью:`"
      ],
      "metadata": {
        "id": "dQCOwa95rPzq"
      }
    },
    {
      "cell_type": "code",
      "source": [
        "best_r2 = 0\n",
        "best_momentum_coef = None\n",
        "for momentum_coef in tqdm(np.arange(0.1, 1, 0.1)):\n",
        "    w_sgd, _ = momentum_gradient_descent(X, y, learning_rate, momentum_coef, num_iterations, batch_size=1, disable_tqdm=True)\n",
        "    y_pred = predict(X, w_sgd)\n",
        "    r2 = r2_score(y, y_pred)\n",
        "    print(f'\\nmomentum_coef: {round(momentum_coef, 2)}, r2: {round(r2, 2)}')\n",
        "    if r2 > best_r2:\n",
        "        best_r2 = r2\n",
        "        best_momentum_coef = momentum_coef"
      ],
      "metadata": {
        "colab": {
          "base_uri": "https://localhost:8080/"
        },
        "id": "dyGLImNyqiAa",
        "outputId": "a1582e42-2663-498f-fba4-c66cd1c91e65"
      },
      "execution_count": 165,
      "outputs": [
        {
          "output_type": "stream",
          "name": "stderr",
          "text": [
            " 11%|█         | 1/9 [00:09<01:14,  9.33s/it]"
          ]
        },
        {
          "output_type": "stream",
          "name": "stdout",
          "text": [
            "\n",
            "momentum_coef: 0.1, r2: 0.68\n"
          ]
        },
        {
          "output_type": "stream",
          "name": "stderr",
          "text": [
            "\r 22%|██▏       | 2/9 [00:18<01:02,  8.95s/it]"
          ]
        },
        {
          "output_type": "stream",
          "name": "stdout",
          "text": [
            "\n",
            "momentum_coef: 0.2, r2: 0.71\n"
          ]
        },
        {
          "output_type": "stream",
          "name": "stderr",
          "text": [
            "\r 33%|███▎      | 3/9 [00:25<00:49,  8.29s/it]"
          ]
        },
        {
          "output_type": "stream",
          "name": "stdout",
          "text": [
            "\n",
            "momentum_coef: 0.3, r2: 0.69\n"
          ]
        },
        {
          "output_type": "stream",
          "name": "stderr",
          "text": [
            "\r 44%|████▍     | 4/9 [00:34<00:43,  8.62s/it]"
          ]
        },
        {
          "output_type": "stream",
          "name": "stdout",
          "text": [
            "\n",
            "momentum_coef: 0.4, r2: 0.71\n"
          ]
        },
        {
          "output_type": "stream",
          "name": "stderr",
          "text": [
            "\r 56%|█████▌    | 5/9 [00:41<00:31,  7.99s/it]"
          ]
        },
        {
          "output_type": "stream",
          "name": "stdout",
          "text": [
            "\n",
            "momentum_coef: 0.5, r2: 0.66\n"
          ]
        },
        {
          "output_type": "stream",
          "name": "stderr",
          "text": [
            "\r 67%|██████▋   | 6/9 [00:50<00:25,  8.37s/it]"
          ]
        },
        {
          "output_type": "stream",
          "name": "stdout",
          "text": [
            "\n",
            "momentum_coef: 0.6, r2: 0.65\n"
          ]
        },
        {
          "output_type": "stream",
          "name": "stderr",
          "text": [
            "\r 78%|███████▊  | 7/9 [00:57<00:15,  7.92s/it]"
          ]
        },
        {
          "output_type": "stream",
          "name": "stdout",
          "text": [
            "\n",
            "momentum_coef: 0.7, r2: 0.55\n"
          ]
        },
        {
          "output_type": "stream",
          "name": "stderr",
          "text": [
            "\r 89%|████████▉ | 8/9 [01:06<00:08,  8.29s/it]"
          ]
        },
        {
          "output_type": "stream",
          "name": "stdout",
          "text": [
            "\n",
            "momentum_coef: 0.8, r2: 0.55\n"
          ]
        },
        {
          "output_type": "stream",
          "name": "stderr",
          "text": [
            "100%|██████████| 9/9 [01:15<00:00,  8.35s/it]"
          ]
        },
        {
          "output_type": "stream",
          "name": "stdout",
          "text": [
            "\n",
            "momentum_coef: 0.9, r2: -5.617142231313122e+101\n"
          ]
        },
        {
          "output_type": "stream",
          "name": "stderr",
          "text": [
            "\n"
          ]
        }
      ]
    },
    {
      "cell_type": "code",
      "source": [
        "print(f'Best momentum coef: {best_momentum_coef}, best r2: {best_r2}')"
      ],
      "metadata": {
        "colab": {
          "base_uri": "https://localhost:8080/"
        },
        "id": "j_1trxrhrHiw",
        "outputId": "ce668dd0-f4b0-4765-e28e-f0389026474a"
      },
      "execution_count": 166,
      "outputs": [
        {
          "output_type": "stream",
          "name": "stdout",
          "text": [
            "Best momentum coef: 0.4, best r2: 0.7135690856667314\n"
          ]
        }
      ]
    },
    {
      "cell_type": "markdown",
      "source": [
        "## Бонус\n",
        "\n",
        "## Задание 9 (0.5 балла)\n",
        "\n",
        "Существует [метод Ньютона](https://en.wikipedia.org/wiki/Newton%27s_method_in_optimization) (метод второго порядка) для поиска минимума функции.\n",
        "\n",
        "Известно, что методы второго порядка точнее, чем методы первого порядка (то есть те, которые используют только первую производную для оптимизации). Как вы думаете, почему в оптимизации функций потерь все формулы используют только производные первого порядка? Почему не используют метод Ньютона?"
      ],
      "metadata": {
        "id": "tP182Wbyh8xg"
      }
    },
    {
      "cell_type": "markdown",
      "source": [
        "`Скорее всего он не используется из-за того, что довольно часто аналитическое выражение для второй производной довольно трудно или невозможно найти, поэтому используют только производные первого порядка.`"
      ],
      "metadata": {
        "id": "QBHOY5Ngi_C2"
      }
    },
    {
      "cell_type": "markdown",
      "source": [
        "## **Часть Котобонус** 🐈\n",
        "\n",
        "Ура-ура, с вами снова кот, который может добавить вам баллы!\n",
        "- 0.25, если вы угадаете, чей он\n",
        "- 0.05 если просто предположите\n",
        "\n",
        "**Подсказка:** кот одной из наших замечательных ассистенток!\n",
        "\n",
        "\n",
        "[Кайфующий кот](https://ibb.co/qxjz2tp)"
      ],
      "metadata": {
        "id": "u7hKRuViF7hv"
      }
    },
    {
      "cell_type": "markdown",
      "source": [
        "`Возможно, это кот Сабрины`"
      ],
      "metadata": {
        "id": "OITUmQx7uNv3"
      }
    }
  ]
}